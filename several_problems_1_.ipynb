{
  "nbformat": 4,
  "nbformat_minor": 0,
  "metadata": {
    "colab": {
      "provenance": [],
      "authorship_tag": "ABX9TyPCZfPS2kRVg6KuiVAnNa7s",
      "include_colab_link": true
    },
    "kernelspec": {
      "name": "python3",
      "display_name": "Python 3"
    },
    "language_info": {
      "name": "python"
    },
    "gpuClass": "standard"
  },
  "cells": [
    {
      "cell_type": "markdown",
      "metadata": {
        "id": "view-in-github",
        "colab_type": "text"
      },
      "source": [
        "<a href=\"https://colab.research.google.com/github/Vishhack/several_problems/blob/main/several_problems_1_.ipynb\" target=\"_parent\"><img src=\"https://colab.research.google.com/assets/colab-badge.svg\" alt=\"Open In Colab\"/></a>"
      ]
    },
    {
      "cell_type": "markdown",
      "source": [
        "1. **You are working in a bank, and you have been given two lists of the employees who worked in 2021. Employees’ names in list 1 are Ramesh, Suresh, Mahesh, Ali, Jacob, and Saritha. List 2 contains the names of Ali, Mukesh, Mahesh, Jacob, Sai, and Sarita. Please write a program that helps to identify people who are common in both lists. Please do not use any in-built function**\n"
      ],
      "metadata": {
        "id": "d3NR22y-2JWy"
      }
    },
    {
      "cell_type": "code",
      "source": [
        "#@title Find common items\n",
        "\n",
        "\n",
        "list1 = input(\"Enter name or names separated by commas: \").lower().split(\",\") #-------  input\n",
        "list2 = input(\"Enter another list of names separated by commas: \").lower().split(\",\") #----------- # input\n",
        "\n",
        "\n",
        "\n",
        "\n",
        "common_words = [] #-------------- gather all common words\n",
        "for word in list1:\n",
        "    if word in list2:\n",
        "        common_words.append(word)\n",
        "\n",
        "if len(common_words) > 0:\n",
        "  print('Common words:',\",\" .join(common_words)) #---------- join strings by comma\n",
        "else:\n",
        "  print(\"No common words found.\") \n",
        "  \n"
      ],
      "metadata": {
        "id": "NrnUhUBv2UmX",
        "cellView": "form",
        "colab": {
          "base_uri": "https://localhost:8080/"
        },
        "outputId": "b15f36fa-c06e-4e15-e775-564a0ae0019f"
      },
      "execution_count": null,
      "outputs": [
        {
          "output_type": "stream",
          "name": "stdout",
          "text": [
            "Enter name or names separated by commas: Ali, Mukesh, Mahesh, Jacob, Sai, and Sarita\n",
            "Enter another list of names separated by commas: Ramesh, Suresh, Mahesh, Ali, Jacob, and Saritha\n",
            "Common words:  mahesh, jacob\n"
          ]
        }
      ]
    },
    {
      "cell_type": "markdown",
      "source": [
        " 2.**While entering data, someone entered a few names as a common string “Ramesh Suresh Mohit”. Please write a program which separates all the names and converts them into a list. Once converted into a list, please write a program that adds their age.** \n",
        "\n",
        "<ul style= \"disc\">\n",
        "<li>Ramesh:  25</li>\n",
        "<li>Suresh: 22</li>\n",
        "<li>Mohit: 26</li>\n",
        "</ul>"
      ],
      "metadata": {
        "id": "dJ17DD-Y50dp"
      }
    },
    {
      "cell_type": "code",
      "source": [
        "#@title create list and ages\n",
        "from pygments.token import String\n",
        "from IPython.terminal.embed import embed\n",
        "\n",
        "\n",
        "\n",
        "processed_string = [] #----------------------- processed items list\n",
        "processed_ages = [] #------------------------- processed ages list\n",
        "dic = {}\n",
        "def name_age(ages,string,k=0): #-------------- function:\n",
        "        for i in string.split():\n",
        "          for j in ages:\n",
        "            for k in range(len(ages)):\n",
        "              if i in processed_string:\n",
        "                continue  #-------------------skip already processed name\n",
        "              elif j in processed_ages:\n",
        "                continue  #-------------------skip already processed age\n",
        "              elif j == ages[k]:\n",
        "                processed_string.append(i)\n",
        "                processed_ages.append(j)\n",
        "                dic[i] = ages[k]\n",
        "                continue  #-------------------skip to the next iteration\n",
        "              else:\n",
        "                continue\n",
        "              break #-------------------------stop looping\n",
        "\n",
        "\n",
        "\n",
        "a = input(\"Enter 'name' it is name in lowercase or if it is code enter 'id' in lowercase \") # ----------------------- input\n",
        "\n",
        "if a == \"name\": # --------------------------------------------------------------------------------------------------- condition\n",
        "  \n",
        "  while True:\n",
        "      string = input(\"Enter a string, separated by commas: \").strip().capitalize()\n",
        "      ages = [int(i) for i in input(\"Enter a list of ages, separated by commas: \").split(\",\")] \n",
        "      if any(char.isspace() for char in string):\n",
        "          print(\"Please do not enter spaces between letters.\")\n",
        "          continue\n",
        "      else:\n",
        "        break\n",
        "  while True:\n",
        "      if len(string.split()) != len(ages):\n",
        "          print(\"Enter an equal number of names and ages.\")\n",
        "      else:\n",
        "        break\n",
        "\n",
        "elif a == \"id\":\n",
        "  \n",
        "  while True:\n",
        "      string = input(\"Enter a string, separated by commas: \").strip().capitalize()\n",
        "      ages = [int(i) for i in input(\"Enter a list of ages, separated by commas: \").split(\",\")]\n",
        "      valid = True\n",
        "      for char in string:\n",
        "          if not char.isalpha() and not char.isspace() and not char.isdigit():\n",
        "            valid = False\n",
        "            break\n",
        "      if valid:\n",
        "        break\n",
        "      else:\n",
        "        print(\"Invalid input. Please enter alphabets and special characters only.\")\n",
        "name_age(ages,string) # calling funciton\n",
        "print(dic) # --------------------------------------------------------------------------------------------------------- print result"
      ],
      "metadata": {
        "colab": {
          "base_uri": "https://localhost:8080/"
        },
        "id": "EYd_BBbMgEkW",
        "outputId": "2616f5c6-6eff-453e-cc24-4d4ce78dfea6",
        "cellView": "form"
      },
      "execution_count": null,
      "outputs": [
        {
          "output_type": "stream",
          "name": "stdout",
          "text": [
            "Enter 'name' it is name in lowercase or if it is code enter 'id' in lowercase name\n",
            "Enter a string, separated by commas: vishawas\n",
            "Enter a list of ages, separated by commas: 22\n",
            "{'Vishawas': 22}\n"
          ]
        }
      ]
    },
    {
      "cell_type": "markdown",
      "source": [
        "3.**You are working in a medical store. A patient came to your medical store \n",
        "and asked to buy 2 strips of paracetamol, 3 strips of azithromycin, and 5 strips of Vitamin C. One strip of paracetamol costs Rs 35, one strip of azithromycin costs Rs 49, and one strip of vitamin c costs Rs. 33. Patient gave you Rs 2000. Please tell us what is the total cost of each medicine, the total cost of all medicine, and how much money you refunded to the patient.**\n",
        "\n"
      ],
      "metadata": {
        "id": "ZN4TGCS1_V4z"
      }
    },
    {
      "cell_type": "code",
      "source": [
        "#@title calculator \n",
        "\n",
        "pils_strips = {} #-------------------- empty dictionary \n",
        "pils_strip_cost = {} #---------------- empty dictionary\n",
        "\n",
        "n = int(input(\"Enter the number of key-value pairs: \")) # -------------------------------- input\n",
        "for i in range(n): # --------------------------------------------------------------------- loop\n",
        "    name = input(\"Enter pils_name: \")\n",
        "    cost = round(float(input(\"Enter cost of strip:\")))\n",
        "    quantity = int(input(\"Enter number of strips: \"))\n",
        "    pils_strips[name] = quantity\n",
        "    pils_strip_cost[name] = cost\n",
        "\n",
        "# print number of names and number of strips\n",
        "print(\"check names and number of strips:\",pils_strips)\n",
        "print(\"check cost of strips:\",pils_strip_cost)\n",
        "\n",
        "\n",
        "entire_cost_all_strips = 0\n",
        "for name1,quantity in pils_strips.items(): # --------------------------------------------- loop\n",
        "  for name2,cost in pils_strip_cost.items():\n",
        "    if name1 == name2: # ----------------------------------------------------------------- condition\n",
        "      total_cost_of_each_strip = quantity*cost\n",
        "      print(name1+\":\",total_cost_of_each_strip)\n",
        "      entire_cost_all_strips += total_cost_of_each_strip\n",
        "    else:\n",
        "      print(\" programming is not correct. check algorithum again\")\n",
        "print(\"total cost of all strips:\",entire_cost_all_strips)\n",
        "\n",
        "paid_amount = int(input(\"enter the paid amount: \"))\n",
        "Refund = paid_amount - entire_cost_all_strips\n",
        "print(\"Refundable amount :\",Refund)"
      ],
      "metadata": {
        "id": "cFU7xvV97pai",
        "cellView": "form"
      },
      "execution_count": null,
      "outputs": []
    },
    {
      "cell_type": "markdown",
      "source": [
        "4.**Accept a sentence as input and find the number of vowels in it. Assume that the sentence has no punctuation marks. For example, I am learning python contains 6 vowels. This function should be applicable for all other different sentences.**"
      ],
      "metadata": {
        "id": "zZN8pHQO-Z1E"
      }
    },
    {
      "cell_type": "code",
      "source": [
        "#@title finding vowels\n",
        "sentence = input(\"Enter a sentence: \") # ------------------------ input\n",
        "vowels = \"aeiouAEIOU\"\n",
        "count = 0\n",
        "\n",
        "for charec in sentence: # --------------------------------------- loop\n",
        "    if charec in vowels:\n",
        "        count += 1 \n",
        "\n",
        "print(\"Number of vowels in the sentence:\", count)\n"
      ],
      "metadata": {
        "id": "QsdvoZmd-ZWU",
        "cellView": "form"
      },
      "execution_count": null,
      "outputs": []
    },
    {
      "cell_type": "markdown",
      "source": [
        "5.**you have been appointed by the election commission to create a website. Your first task is to work on a program which tells candidates if they are eligible for voting or not. If they are eligible, your output should be ‘Congrats! You are eligible’; otherwise, it should tell that you have to return after X number of years. The eligibility criteria for voting is 18 years.**"
      ],
      "metadata": {
        "id": "xRNd2oH8-gsb"
      }
    },
    {
      "cell_type": "code",
      "source": [
        "#@title chech age eligibility\n",
        "age = int(input(\"Enter your age: \")) # ----------------------------------------- input\n",
        "\n",
        "if age >= 18: # ---------------------------------------------------------------- condition\n",
        "  print(\"Congrats! You are eligible to vote.\")\n",
        "else:\n",
        "  years_left = 18 - age\n",
        "  print(\"Sorry, you are not eligible to vote. Please come back after\", years_left, \"years.\")"
      ],
      "metadata": {
        "id": "cwxCmQz2-gdH",
        "cellView": "form"
      },
      "execution_count": null,
      "outputs": []
    },
    {
      "cell_type": "markdown",
      "source": [
        "6.**Longest Increasing Subsequence**\n",
        "\n",
        "\n",
        "---\n",
        "\n",
        "\n",
        "Given an unsorted array of integers, find the length of the longest increasing subsequence (LIS) "
      ],
      "metadata": {
        "id": "3OT-17k7-sv_"
      }
    },
    {
      "cell_type": "code",
      "source": [
        "#@title find LIS\n",
        "def lis_length(nums): # ----------------------------------------------------------------------- fucntion:\n",
        "    if not nums:\n",
        "        return 0\n",
        "\n",
        "    n = len(nums)\n",
        "    dp = [1] * n\n",
        "\n",
        "    for i in range(1, n): # ------------------------------------------------------------------- loop\n",
        "        for j in range(i):\n",
        "            if nums[i] > nums[j]:\n",
        "                dp[i] = max(dp[i], dp[j] + 1)\n",
        "\n",
        "    return max(dp)\n",
        "\n",
        "nums = [int(i) for i in (input(\"enter the numbers seperated by commas:\").split(\",\"))] # ------- input\n",
        "print(lis_length(nums))  # expected output: 4"
      ],
      "metadata": {
        "id": "mz5zT5Z5-9vV",
        "cellView": "form"
      },
      "execution_count": null,
      "outputs": []
    }
  ]
}